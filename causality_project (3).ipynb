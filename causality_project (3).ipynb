{
  "cells": [
    {
      "cell_type": "code",
      "execution_count": null,
      "metadata": {
        "colab": {
          "base_uri": "https://localhost:8080/"
        },
        "id": "yyE1NJUcpb0E",
        "outputId": "59ba9a83-1c13-4b4a-ecea-8d330d8f4a8e"
      },
      "outputs": [
        {
          "name": "stdout",
          "output_type": "stream",
          "text": [
            "Drive already mounted at /content/drive; to attempt to forcibly remount, call drive.mount(\"/content/drive\", force_remount=True).\n"
          ]
        }
      ],
      "source": [
        "import pandas as pd\n",
        "from google.colab import drive\n",
        "import numpy as np\n",
        "from sklearn.ensemble import RandomForestClassifier\n",
        "from sklearn.model_selection import train_test_split\n",
        "from sklearn.preprocessing import MinMaxScaler, OneHotEncoder\n",
        "from sklearn.neighbors import KNeighborsClassifier\n",
        "import itertools\n",
        "from matplotlib import pyplot as plt\n",
        "from sklearn.linear_model import LogisticRegression\n",
        "drive.mount('/content/drive')"
      ]
    },
    {
      "cell_type": "code",
      "execution_count": null,
      "metadata": {
        "id": "QvmnHnUqZxlc"
      },
      "outputs": [],
      "source": [
        "T = 'treatment'\n",
        "target_feature = 'effect'"
      ]
    },
    {
      "cell_type": "code",
      "execution_count": null,
      "metadata": {
        "id": "pVGUrX3NoKWS"
      },
      "outputs": [],
      "source": [
        "path = \"/content/drive/Shareddrives/Guy_Noam_Shared_Drive/Casual Inference/data_for_traffic_research.csv\"\n",
        "df = pd.read_csv(path)\n",
        "df = df.sample(n=1000000)\n",
        "# df_treated = df[df[T]==1]\n",
        "# df_not_treated = df[df[T]==0]\n",
        "\n",
        "# df_treated = df_treated.sample(n=250000)\n",
        "# df_not_treated = df_not_treated.sample(n=250000)\n",
        "# df = pd.concat([df_treated, df_not_treated], ignore_index=True)"
      ]
    },
    {
      "cell_type": "code",
      "execution_count": null,
      "metadata": {
        "colab": {
          "base_uri": "https://localhost:8080/"
        },
        "id": "0F71iM2tiEWa",
        "outputId": "0e1a14a4-6728-4964-c11e-2ab557efbc6a"
      },
      "outputs": [
        {
          "data": {
            "text/plain": [
              "Index(['site_creation_days_ago', 'site_upgraded_days_ago', 'treatment',\n",
              "       'e_tool', 'a_tool', 'f_tool', 'c_tool', 'g_tool', 'effect',\n",
              "       'classification_3', 'classification_1_key_1', 'classification_1_key_2',\n",
              "       'classification_1_key_3', 'classification_1_key_4',\n",
              "       'classification_1_key_5', 'classification_1_key_6',\n",
              "       'classification_1_key_7', 'classification_1_key_8',\n",
              "       'classification_1_key_9', 'classification_2_key_1',\n",
              "       'classification_2_key_2', 'classification_2_key_3',\n",
              "       'classification_2_key_4', 'classification_2_key_5',\n",
              "       'classification_2_key_6', 'classification_2_key_7',\n",
              "       'classification_2_key_8', 'classification_2_key_9',\n",
              "       'classification_2_key_10', 'classification_2_key_11',\n",
              "       'classification_2_key_12', 'classification_2_key_13',\n",
              "       'classification_2_key_14', 'classification_2_key_15',\n",
              "       'classification_2_key_16', 'classification_2_key_17',\n",
              "       'country_name_Australia', 'country_name_Belgium', 'country_name_Brazil',\n",
              "       'country_name_Canada', 'country_name_France', 'country_name_Germany',\n",
              "       'country_name_India', 'country_name_Israel', 'country_name_Italy',\n",
              "       'country_name_Japan', 'country_name_Mexico', 'country_name_Netherlands',\n",
              "       'country_name_New Zealand', 'country_name_ROW', 'country_name_Russia',\n",
              "       'country_name_Spain', 'country_name_Switzerland', 'country_name_Turkey',\n",
              "       'country_name_United Kingdom', 'country_name_United States'],\n",
              "      dtype='object')"
            ]
          },
          "execution_count": 60,
          "metadata": {},
          "output_type": "execute_result"
        }
      ],
      "source": [
        "df.columns\n",
        "# 'classification_1_key', 'classification_2_key', 'country_name'"
      ]
    },
    {
      "cell_type": "code",
      "execution_count": null,
      "metadata": {
        "colab": {
          "base_uri": "https://localhost:8080/",
          "height": 505
        },
        "id": "4fH6Tn57hePN",
        "outputId": "d9cb7c69-e219-440c-cdfa-d7f8e1891cdc"
      },
      "outputs": [
        {
          "data": {
            "text/html": [
              "\n",
              "  <div id=\"df-680ebe06-02ce-4ec1-9b72-63d3ec081c3b\">\n",
              "    <div class=\"colab-df-container\">\n",
              "      <div>\n",
              "<style scoped>\n",
              "    .dataframe tbody tr th:only-of-type {\n",
              "        vertical-align: middle;\n",
              "    }\n",
              "\n",
              "    .dataframe tbody tr th {\n",
              "        vertical-align: top;\n",
              "    }\n",
              "\n",
              "    .dataframe thead th {\n",
              "        text-align: right;\n",
              "    }\n",
              "</style>\n",
              "<table border=\"1\" class=\"dataframe\">\n",
              "  <thead>\n",
              "    <tr style=\"text-align: right;\">\n",
              "      <th></th>\n",
              "      <th>site_creation_days_ago</th>\n",
              "      <th>site_upgraded_days_ago</th>\n",
              "      <th>treatment</th>\n",
              "      <th>e_tool</th>\n",
              "      <th>a_tool</th>\n",
              "      <th>f_tool</th>\n",
              "      <th>c_tool</th>\n",
              "      <th>g_tool</th>\n",
              "      <th>effect</th>\n",
              "      <th>classification_3</th>\n",
              "      <th>...</th>\n",
              "      <th>country_name_Mexico</th>\n",
              "      <th>country_name_Netherlands</th>\n",
              "      <th>country_name_New Zealand</th>\n",
              "      <th>country_name_ROW</th>\n",
              "      <th>country_name_Russia</th>\n",
              "      <th>country_name_Spain</th>\n",
              "      <th>country_name_Switzerland</th>\n",
              "      <th>country_name_Turkey</th>\n",
              "      <th>country_name_United Kingdom</th>\n",
              "      <th>country_name_United States</th>\n",
              "    </tr>\n",
              "  </thead>\n",
              "  <tbody>\n",
              "    <tr>\n",
              "      <th>921339</th>\n",
              "      <td>268</td>\n",
              "      <td>183</td>\n",
              "      <td>0</td>\n",
              "      <td>0</td>\n",
              "      <td>0</td>\n",
              "      <td>0</td>\n",
              "      <td>0</td>\n",
              "      <td>0</td>\n",
              "      <td>22</td>\n",
              "      <td>1</td>\n",
              "      <td>...</td>\n",
              "      <td>0</td>\n",
              "      <td>0</td>\n",
              "      <td>0</td>\n",
              "      <td>0</td>\n",
              "      <td>0</td>\n",
              "      <td>0</td>\n",
              "      <td>0</td>\n",
              "      <td>0</td>\n",
              "      <td>0</td>\n",
              "      <td>1</td>\n",
              "    </tr>\n",
              "    <tr>\n",
              "      <th>3150746</th>\n",
              "      <td>455</td>\n",
              "      <td>452</td>\n",
              "      <td>0</td>\n",
              "      <td>0</td>\n",
              "      <td>1</td>\n",
              "      <td>1</td>\n",
              "      <td>1</td>\n",
              "      <td>0</td>\n",
              "      <td>0</td>\n",
              "      <td>0</td>\n",
              "      <td>...</td>\n",
              "      <td>0</td>\n",
              "      <td>0</td>\n",
              "      <td>0</td>\n",
              "      <td>0</td>\n",
              "      <td>0</td>\n",
              "      <td>0</td>\n",
              "      <td>0</td>\n",
              "      <td>0</td>\n",
              "      <td>0</td>\n",
              "      <td>1</td>\n",
              "    </tr>\n",
              "    <tr>\n",
              "      <th>2079088</th>\n",
              "      <td>497</td>\n",
              "      <td>493</td>\n",
              "      <td>0</td>\n",
              "      <td>0</td>\n",
              "      <td>0</td>\n",
              "      <td>1</td>\n",
              "      <td>1</td>\n",
              "      <td>0</td>\n",
              "      <td>46</td>\n",
              "      <td>0</td>\n",
              "      <td>...</td>\n",
              "      <td>0</td>\n",
              "      <td>0</td>\n",
              "      <td>0</td>\n",
              "      <td>0</td>\n",
              "      <td>0</td>\n",
              "      <td>0</td>\n",
              "      <td>0</td>\n",
              "      <td>0</td>\n",
              "      <td>0</td>\n",
              "      <td>1</td>\n",
              "    </tr>\n",
              "    <tr>\n",
              "      <th>905565</th>\n",
              "      <td>278</td>\n",
              "      <td>277</td>\n",
              "      <td>0</td>\n",
              "      <td>0</td>\n",
              "      <td>0</td>\n",
              "      <td>1</td>\n",
              "      <td>1</td>\n",
              "      <td>0</td>\n",
              "      <td>0</td>\n",
              "      <td>1</td>\n",
              "      <td>...</td>\n",
              "      <td>0</td>\n",
              "      <td>0</td>\n",
              "      <td>0</td>\n",
              "      <td>0</td>\n",
              "      <td>1</td>\n",
              "      <td>0</td>\n",
              "      <td>0</td>\n",
              "      <td>0</td>\n",
              "      <td>0</td>\n",
              "      <td>0</td>\n",
              "    </tr>\n",
              "    <tr>\n",
              "      <th>2539324</th>\n",
              "      <td>214</td>\n",
              "      <td>214</td>\n",
              "      <td>0</td>\n",
              "      <td>0</td>\n",
              "      <td>0</td>\n",
              "      <td>1</td>\n",
              "      <td>1</td>\n",
              "      <td>0</td>\n",
              "      <td>0</td>\n",
              "      <td>0</td>\n",
              "      <td>...</td>\n",
              "      <td>0</td>\n",
              "      <td>0</td>\n",
              "      <td>0</td>\n",
              "      <td>0</td>\n",
              "      <td>0</td>\n",
              "      <td>0</td>\n",
              "      <td>0</td>\n",
              "      <td>0</td>\n",
              "      <td>0</td>\n",
              "      <td>1</td>\n",
              "    </tr>\n",
              "    <tr>\n",
              "      <th>...</th>\n",
              "      <td>...</td>\n",
              "      <td>...</td>\n",
              "      <td>...</td>\n",
              "      <td>...</td>\n",
              "      <td>...</td>\n",
              "      <td>...</td>\n",
              "      <td>...</td>\n",
              "      <td>...</td>\n",
              "      <td>...</td>\n",
              "      <td>...</td>\n",
              "      <td>...</td>\n",
              "      <td>...</td>\n",
              "      <td>...</td>\n",
              "      <td>...</td>\n",
              "      <td>...</td>\n",
              "      <td>...</td>\n",
              "      <td>...</td>\n",
              "      <td>...</td>\n",
              "      <td>...</td>\n",
              "      <td>...</td>\n",
              "      <td>...</td>\n",
              "    </tr>\n",
              "    <tr>\n",
              "      <th>1185841</th>\n",
              "      <td>66</td>\n",
              "      <td>23</td>\n",
              "      <td>1</td>\n",
              "      <td>0</td>\n",
              "      <td>0</td>\n",
              "      <td>1</td>\n",
              "      <td>0</td>\n",
              "      <td>0</td>\n",
              "      <td>119</td>\n",
              "      <td>0</td>\n",
              "      <td>...</td>\n",
              "      <td>0</td>\n",
              "      <td>0</td>\n",
              "      <td>0</td>\n",
              "      <td>0</td>\n",
              "      <td>0</td>\n",
              "      <td>0</td>\n",
              "      <td>0</td>\n",
              "      <td>0</td>\n",
              "      <td>0</td>\n",
              "      <td>0</td>\n",
              "    </tr>\n",
              "    <tr>\n",
              "      <th>1986161</th>\n",
              "      <td>317</td>\n",
              "      <td>317</td>\n",
              "      <td>0</td>\n",
              "      <td>0</td>\n",
              "      <td>0</td>\n",
              "      <td>1</td>\n",
              "      <td>1</td>\n",
              "      <td>0</td>\n",
              "      <td>1</td>\n",
              "      <td>1</td>\n",
              "      <td>...</td>\n",
              "      <td>0</td>\n",
              "      <td>0</td>\n",
              "      <td>0</td>\n",
              "      <td>0</td>\n",
              "      <td>0</td>\n",
              "      <td>0</td>\n",
              "      <td>0</td>\n",
              "      <td>0</td>\n",
              "      <td>0</td>\n",
              "      <td>0</td>\n",
              "    </tr>\n",
              "    <tr>\n",
              "      <th>3215562</th>\n",
              "      <td>354</td>\n",
              "      <td>352</td>\n",
              "      <td>0</td>\n",
              "      <td>0</td>\n",
              "      <td>0</td>\n",
              "      <td>1</td>\n",
              "      <td>1</td>\n",
              "      <td>0</td>\n",
              "      <td>5</td>\n",
              "      <td>1</td>\n",
              "      <td>...</td>\n",
              "      <td>0</td>\n",
              "      <td>0</td>\n",
              "      <td>0</td>\n",
              "      <td>0</td>\n",
              "      <td>0</td>\n",
              "      <td>0</td>\n",
              "      <td>0</td>\n",
              "      <td>0</td>\n",
              "      <td>0</td>\n",
              "      <td>1</td>\n",
              "    </tr>\n",
              "    <tr>\n",
              "      <th>1665731</th>\n",
              "      <td>307</td>\n",
              "      <td>307</td>\n",
              "      <td>0</td>\n",
              "      <td>0</td>\n",
              "      <td>0</td>\n",
              "      <td>1</td>\n",
              "      <td>1</td>\n",
              "      <td>0</td>\n",
              "      <td>0</td>\n",
              "      <td>1</td>\n",
              "      <td>...</td>\n",
              "      <td>0</td>\n",
              "      <td>0</td>\n",
              "      <td>0</td>\n",
              "      <td>0</td>\n",
              "      <td>0</td>\n",
              "      <td>0</td>\n",
              "      <td>0</td>\n",
              "      <td>0</td>\n",
              "      <td>0</td>\n",
              "      <td>1</td>\n",
              "    </tr>\n",
              "    <tr>\n",
              "      <th>174441</th>\n",
              "      <td>436</td>\n",
              "      <td>436</td>\n",
              "      <td>0</td>\n",
              "      <td>0</td>\n",
              "      <td>0</td>\n",
              "      <td>0</td>\n",
              "      <td>0</td>\n",
              "      <td>0</td>\n",
              "      <td>6</td>\n",
              "      <td>1</td>\n",
              "      <td>...</td>\n",
              "      <td>0</td>\n",
              "      <td>0</td>\n",
              "      <td>0</td>\n",
              "      <td>0</td>\n",
              "      <td>0</td>\n",
              "      <td>0</td>\n",
              "      <td>0</td>\n",
              "      <td>0</td>\n",
              "      <td>0</td>\n",
              "      <td>0</td>\n",
              "    </tr>\n",
              "  </tbody>\n",
              "</table>\n",
              "<p>1000000 rows × 56 columns</p>\n",
              "</div>\n",
              "      <button class=\"colab-df-convert\" onclick=\"convertToInteractive('df-680ebe06-02ce-4ec1-9b72-63d3ec081c3b')\"\n",
              "              title=\"Convert this dataframe to an interactive table.\"\n",
              "              style=\"display:none;\">\n",
              "        \n",
              "  <svg xmlns=\"http://www.w3.org/2000/svg\" height=\"24px\"viewBox=\"0 0 24 24\"\n",
              "       width=\"24px\">\n",
              "    <path d=\"M0 0h24v24H0V0z\" fill=\"none\"/>\n",
              "    <path d=\"M18.56 5.44l.94 2.06.94-2.06 2.06-.94-2.06-.94-.94-2.06-.94 2.06-2.06.94zm-11 1L8.5 8.5l.94-2.06 2.06-.94-2.06-.94L8.5 2.5l-.94 2.06-2.06.94zm10 10l.94 2.06.94-2.06 2.06-.94-2.06-.94-.94-2.06-.94 2.06-2.06.94z\"/><path d=\"M17.41 7.96l-1.37-1.37c-.4-.4-.92-.59-1.43-.59-.52 0-1.04.2-1.43.59L10.3 9.45l-7.72 7.72c-.78.78-.78 2.05 0 2.83L4 21.41c.39.39.9.59 1.41.59.51 0 1.02-.2 1.41-.59l7.78-7.78 2.81-2.81c.8-.78.8-2.07 0-2.86zM5.41 20L4 18.59l7.72-7.72 1.47 1.35L5.41 20z\"/>\n",
              "  </svg>\n",
              "      </button>\n",
              "      \n",
              "  <style>\n",
              "    .colab-df-container {\n",
              "      display:flex;\n",
              "      flex-wrap:wrap;\n",
              "      gap: 12px;\n",
              "    }\n",
              "\n",
              "    .colab-df-convert {\n",
              "      background-color: #E8F0FE;\n",
              "      border: none;\n",
              "      border-radius: 50%;\n",
              "      cursor: pointer;\n",
              "      display: none;\n",
              "      fill: #1967D2;\n",
              "      height: 32px;\n",
              "      padding: 0 0 0 0;\n",
              "      width: 32px;\n",
              "    }\n",
              "\n",
              "    .colab-df-convert:hover {\n",
              "      background-color: #E2EBFA;\n",
              "      box-shadow: 0px 1px 2px rgba(60, 64, 67, 0.3), 0px 1px 3px 1px rgba(60, 64, 67, 0.15);\n",
              "      fill: #174EA6;\n",
              "    }\n",
              "\n",
              "    [theme=dark] .colab-df-convert {\n",
              "      background-color: #3B4455;\n",
              "      fill: #D2E3FC;\n",
              "    }\n",
              "\n",
              "    [theme=dark] .colab-df-convert:hover {\n",
              "      background-color: #434B5C;\n",
              "      box-shadow: 0px 1px 3px 1px rgba(0, 0, 0, 0.15);\n",
              "      filter: drop-shadow(0px 1px 2px rgba(0, 0, 0, 0.3));\n",
              "      fill: #FFFFFF;\n",
              "    }\n",
              "  </style>\n",
              "\n",
              "      <script>\n",
              "        const buttonEl =\n",
              "          document.querySelector('#df-680ebe06-02ce-4ec1-9b72-63d3ec081c3b button.colab-df-convert');\n",
              "        buttonEl.style.display =\n",
              "          google.colab.kernel.accessAllowed ? 'block' : 'none';\n",
              "\n",
              "        async function convertToInteractive(key) {\n",
              "          const element = document.querySelector('#df-680ebe06-02ce-4ec1-9b72-63d3ec081c3b');\n",
              "          const dataTable =\n",
              "            await google.colab.kernel.invokeFunction('convertToInteractive',\n",
              "                                                     [key], {});\n",
              "          if (!dataTable) return;\n",
              "\n",
              "          const docLinkHtml = 'Like what you see? Visit the ' +\n",
              "            '<a target=\"_blank\" href=https://colab.research.google.com/notebooks/data_table.ipynb>data table notebook</a>'\n",
              "            + ' to learn more about interactive tables.';\n",
              "          element.innerHTML = '';\n",
              "          dataTable['output_type'] = 'display_data';\n",
              "          await google.colab.output.renderOutput(dataTable, element);\n",
              "          const docLink = document.createElement('div');\n",
              "          docLink.innerHTML = docLinkHtml;\n",
              "          element.appendChild(docLink);\n",
              "        }\n",
              "      </script>\n",
              "    </div>\n",
              "  </div>\n",
              "  "
            ],
            "text/plain": [
              "         site_creation_days_ago  site_upgraded_days_ago  treatment  e_tool  \\\n",
              "921339                      268                     183          0       0   \n",
              "3150746                     455                     452          0       0   \n",
              "2079088                     497                     493          0       0   \n",
              "905565                      278                     277          0       0   \n",
              "2539324                     214                     214          0       0   \n",
              "...                         ...                     ...        ...     ...   \n",
              "1185841                      66                      23          1       0   \n",
              "1986161                     317                     317          0       0   \n",
              "3215562                     354                     352          0       0   \n",
              "1665731                     307                     307          0       0   \n",
              "174441                      436                     436          0       0   \n",
              "\n",
              "         a_tool  f_tool  c_tool  g_tool  effect  classification_3  ...  \\\n",
              "921339        0       0       0       0      22                 1  ...   \n",
              "3150746       1       1       1       0       0                 0  ...   \n",
              "2079088       0       1       1       0      46                 0  ...   \n",
              "905565        0       1       1       0       0                 1  ...   \n",
              "2539324       0       1       1       0       0                 0  ...   \n",
              "...         ...     ...     ...     ...     ...               ...  ...   \n",
              "1185841       0       1       0       0     119                 0  ...   \n",
              "1986161       0       1       1       0       1                 1  ...   \n",
              "3215562       0       1       1       0       5                 1  ...   \n",
              "1665731       0       1       1       0       0                 1  ...   \n",
              "174441        0       0       0       0       6                 1  ...   \n",
              "\n",
              "         country_name_Mexico  country_name_Netherlands  \\\n",
              "921339                     0                         0   \n",
              "3150746                    0                         0   \n",
              "2079088                    0                         0   \n",
              "905565                     0                         0   \n",
              "2539324                    0                         0   \n",
              "...                      ...                       ...   \n",
              "1185841                    0                         0   \n",
              "1986161                    0                         0   \n",
              "3215562                    0                         0   \n",
              "1665731                    0                         0   \n",
              "174441                     0                         0   \n",
              "\n",
              "         country_name_New Zealand  country_name_ROW  country_name_Russia  \\\n",
              "921339                          0                 0                    0   \n",
              "3150746                         0                 0                    0   \n",
              "2079088                         0                 0                    0   \n",
              "905565                          0                 0                    1   \n",
              "2539324                         0                 0                    0   \n",
              "...                           ...               ...                  ...   \n",
              "1185841                         0                 0                    0   \n",
              "1986161                         0                 0                    0   \n",
              "3215562                         0                 0                    0   \n",
              "1665731                         0                 0                    0   \n",
              "174441                          0                 0                    0   \n",
              "\n",
              "         country_name_Spain  country_name_Switzerland  country_name_Turkey  \\\n",
              "921339                    0                         0                    0   \n",
              "3150746                   0                         0                    0   \n",
              "2079088                   0                         0                    0   \n",
              "905565                    0                         0                    0   \n",
              "2539324                   0                         0                    0   \n",
              "...                     ...                       ...                  ...   \n",
              "1185841                   0                         0                    0   \n",
              "1986161                   0                         0                    0   \n",
              "3215562                   0                         0                    0   \n",
              "1665731                   0                         0                    0   \n",
              "174441                    0                         0                    0   \n",
              "\n",
              "         country_name_United Kingdom  country_name_United States  \n",
              "921339                             0                           1  \n",
              "3150746                            0                           1  \n",
              "2079088                            0                           1  \n",
              "905565                             0                           0  \n",
              "2539324                            0                           1  \n",
              "...                              ...                         ...  \n",
              "1185841                            0                           0  \n",
              "1986161                            0                           0  \n",
              "3215562                            0                           1  \n",
              "1665731                            0                           1  \n",
              "174441                             0                           0  \n",
              "\n",
              "[1000000 rows x 56 columns]"
            ]
          },
          "execution_count": 4,
          "metadata": {},
          "output_type": "execute_result"
        }
      ],
      "source": [
        "df = pd.get_dummies(df, columns=['classification_1_key', 'classification_2_key','country_name'])\n",
        "df.drop(\"age_of_blog\", axis=1, inplace=True)\n",
        "df"
      ]
    },
    {
      "cell_type": "code",
      "execution_count": null,
      "metadata": {
        "colab": {
          "base_uri": "https://localhost:8080/"
        },
        "id": "qEbw0-enRvSU",
        "outputId": "ccb0936a-ebc9-4107-9096-b740f53fccdf"
      },
      "outputs": [
        {
          "data": {
            "text/plain": [
              "Index(['site_creation_days_ago', 'site_upgraded_days_ago', 'treatment',\n",
              "       'e_tool', 'a_tool', 'f_tool', 'c_tool', 'g_tool', 'effect',\n",
              "       'classification_3', 'classification_1_key_1', 'classification_1_key_2',\n",
              "       'classification_1_key_3', 'classification_1_key_4',\n",
              "       'classification_1_key_5', 'classification_1_key_6',\n",
              "       'classification_1_key_7', 'classification_1_key_8',\n",
              "       'classification_1_key_9', 'classification_2_key_1',\n",
              "       'classification_2_key_2', 'classification_2_key_3',\n",
              "       'classification_2_key_4', 'classification_2_key_5',\n",
              "       'classification_2_key_6', 'classification_2_key_7',\n",
              "       'classification_2_key_8', 'classification_2_key_9',\n",
              "       'classification_2_key_10', 'classification_2_key_11',\n",
              "       'classification_2_key_12', 'classification_2_key_13',\n",
              "       'classification_2_key_14', 'classification_2_key_15',\n",
              "       'classification_2_key_16', 'classification_2_key_17',\n",
              "       'country_name_Australia', 'country_name_Belgium', 'country_name_Brazil',\n",
              "       'country_name_Canada', 'country_name_France', 'country_name_Germany',\n",
              "       'country_name_India', 'country_name_Israel', 'country_name_Italy',\n",
              "       'country_name_Japan', 'country_name_Mexico', 'country_name_Netherlands',\n",
              "       'country_name_New Zealand', 'country_name_ROW', 'country_name_Russia',\n",
              "       'country_name_Spain', 'country_name_Switzerland', 'country_name_Turkey',\n",
              "       'country_name_United Kingdom', 'country_name_United States'],\n",
              "      dtype='object')"
            ]
          },
          "execution_count": 15,
          "metadata": {},
          "output_type": "execute_result"
        }
      ],
      "source": [
        "df.columns"
      ]
    },
    {
      "cell_type": "code",
      "execution_count": null,
      "metadata": {
        "id": "7gb8UZ2dxvFM"
      },
      "outputs": [],
      "source": [
        "import numpy\n",
        "from pandas import read_csv\n",
        "from sklearn.utils import resample\n",
        "from sklearn.tree import DecisionTreeClassifier\n",
        "from sklearn.metrics import accuracy_score\n",
        "from matplotlib import pyplot"
      ]
    },
    {
      "cell_type": "code",
      "execution_count": null,
      "metadata": {
        "colab": {
          "base_uri": "https://localhost:8080/",
          "height": 406
        },
        "id": "pAHSqOfdOXGH",
        "outputId": "3e082552-d44f-49af-8d97-28fa5216f492"
      },
      "outputs": [
        {
          "name": "stderr",
          "output_type": "stream",
          "text": [
            "/usr/local/lib/python3.7/dist-packages/sklearn/base.py:451: UserWarning: X does not have valid feature names, but RandomForestClassifier was fitted with feature names\n",
            "  \"X does not have valid feature names, but\"\n",
            "/usr/local/lib/python3.7/dist-packages/sklearn/base.py:451: UserWarning: X does not have valid feature names, but RandomForestClassifier was fitted with feature names\n",
            "  \"X does not have valid feature names, but\"\n"
          ]
        },
        {
          "data": {
            "text/plain": [
              "(array([147., 295., 253., 210.,  83.]),\n",
              " array([0.   , 0.196, 0.392, 0.588, 0.784, 0.98 ]),\n",
              " <a list of 5 Patch objects>)"
            ]
          },
          "execution_count": 6,
          "metadata": {},
          "output_type": "execute_result"
        },
        {
          "data": {
            "image/png": "[encoded data removed]",
            "text/plain": [
              "<Figure size 432x288 with 1 Axes>"
            ]
          },
          "metadata": {},
          "output_type": "display_data"
        }
      ],
      "source": [
        "df_1 = df[df[T] == 1].drop([\"treatment\", \"effect\"], axis=1)\n",
        "df_0 =df[df[T] == 0].drop([\"treatment\", \"effect\"], axis=1)\n",
        "df_prop = df.drop([\"treatment\", \"effect\"], axis=1)\n",
        "X_train, X_test, y_train, y_test = train_test_split(df_prop, df[\"treatment\"], test_size=0.2, random_state=42)\n",
        "\n",
        "rf = RandomForestClassifier()\n",
        "rf.fit(X_train, y_train)\n",
        "\n",
        "x1 = [x for x,y in zip(X_test.values, y_test) if y==1]\n",
        "x2 = [x for x,y in zip(X_test.values, y_test) if y==0]\n",
        "e_t = rf.predict_proba(x1)[:, 1]\n",
        "e_t0 = rf.predict_proba(x2)[:, 1]\n",
        "\n",
        "pyplot.hist(e_t, bins=5, ls='dashed', lw=3, fc=(0, 0, 1, 0.5))\n",
        "pyplot.hist(e_t0, bins=5, ls='dotted', lw=3, fc=(1, 0, 0, 0.5))"
      ]
    },
    {
      "cell_type": "code",
      "execution_count": null,
      "metadata": {
        "colab": {
          "base_uri": "https://localhost:8080/"
        },
        "id": "357L4y7zGPCZ",
        "outputId": "435a6a8c-6dda-4a2e-8014-6b0f089b0b36"
      },
      "outputs": [
        {
          "data": {
            "text/plain": [
              "array([[0.37, 0.63],\n",
              "       [0.63, 0.37],\n",
              "       [0.38, 0.62],\n",
              "       ...,\n",
              "       [0.37, 0.63],\n",
              "       [0.55, 0.45],\n",
              "       [0.34, 0.66]])"
            ]
          },
          "execution_count": 7,
          "metadata": {},
          "output_type": "execute_result"
        }
      ],
      "source": [
        "rf.predict_proba(X_test)"
      ]
    },
    {
      "cell_type": "code",
      "execution_count": null,
      "metadata": {
        "id": "waFy_OYyUd75"
      },
      "outputs": [],
      "source": [
        "for x in X_test.values:\n",
        "  print(x)"
      ]
    },
    {
      "cell_type": "code",
      "execution_count": null,
      "metadata": {
        "id": "nT0f6uuipNM4"
      },
      "outputs": [],
      "source": [
        "# T = df[\"blog_date\"]\n",
        "# T[T.notnull()] = 1\n",
        "# T.fillna(0, inplace=True)\n",
        "# df[\"T\"] = T"
      ]
    },
    {
      "cell_type": "code",
      "execution_count": null,
      "metadata": {
        "colab": {
          "base_uri": "https://localhost:8080/",
          "height": 282
        },
        "id": "eShv1xqc9lP4",
        "outputId": "be8a870a-3674-4902-acc0-2c9ace327645"
      },
      "outputs": [
        {
          "data": {
            "text/plain": [
              "<matplotlib.axes._subplots.AxesSubplot at 0x7f32afff47d0>"
            ]
          },
          "execution_count": 22,
          "metadata": {},
          "output_type": "execute_result"
        },
        {
          "data": {
            "image/png": "[encoded data removed]",
            "text/plain": [
              "<Figure size 432x288 with 1 Axes>"
            ]
          },
          "metadata": {},
          "output_type": "display_data"
        }
      ],
      "source": [
        "df[T].hist()"
      ]
    },
    {
      "cell_type": "code",
      "execution_count": null,
      "metadata": {
        "colab": {
          "base_uri": "https://localhost:8080/",
          "height": 312
        },
        "id": "RcfFiR4pRhMI",
        "outputId": "c937be28-ccd6-4e54-a200-11383c272222"
      },
      "outputs": [
        {
          "data": {
            "text/plain": [
              "Text(0.5, 1.0, 'number of sites with blogs')"
            ]
          },
          "execution_count": 23,
          "metadata": {},
          "output_type": "execute_result"
        },
        {
          "data": {
            "image/png": "[encoded data removed]",
            "text/plain": [
              "<Figure size 432x288 with 1 Axes>"
            ]
          },
          "metadata": {},
          "output_type": "display_data"
        }
      ],
      "source": [
        "import plotly.express as px\n",
        "import matplotlib.pyplot as plt\n",
        "\n",
        "plt.hist(df[T], label=[0,1], density=True)\n",
        "plt.xlabel(\"Treatment\")\n",
        "plt.ylabel(\"count\")\n",
        "plt.xticks([0,1])\n",
        "plt.title(\"number of sites with blogs\")"
      ]
    },
    {
      "cell_type": "code",
      "execution_count": null,
      "metadata": {
        "colab": {
          "base_uri": "https://localhost:8080/"
        },
        "id": "Fqdxmtb_8v4i",
        "outputId": "7082f8dd-93bc-4391-f03c-191788cd3ff0"
      },
      "outputs": [
        {
          "name": "stdout",
          "output_type": "stream",
          "text": [
            "80.70299999999999\n"
          ]
        }
      ],
      "source": [
        "ATE = {}\n",
        "\n",
        "treated_outcome = np.mean(df[df[T] == 1][\"effect\"])\n",
        "control_outcome = np.mean(df[df[T] == 0][\"effect\"])\n",
        "\n",
        "naive_ATE = treated_outcome - control_outcome\n",
        "ATE['naive'] = naive_ATE\n",
        "print(naive_ATE)"
      ]
    },
    {
      "cell_type": "code",
      "execution_count": null,
      "metadata": {
        "colab": {
          "base_uri": "https://localhost:8080/",
          "height": 298
        },
        "id": "mmXRptrCDY-X",
        "outputId": "dbec9fba-1c9a-4753-bde7-f331a888aa82"
      },
      "outputs": [
        {
          "data": {
            "image/png": "[encoded data removed]",
            "text/plain": [
              "<Figure size 432x288 with 1 Axes>"
            ]
          },
          "metadata": {},
          "output_type": "display_data"
        },
        {
          "name": "stdout",
          "output_type": "stream",
          "text": [
            "95.0 confidence interval 58.7 and 96.7\n"
          ]
        }
      ],
      "source": [
        "import numpy\n",
        "from pandas import read_csv\n",
        "from sklearn.utils import resample\n",
        "from sklearn.tree import DecisionTreeClassifier\n",
        "from sklearn.metrics import accuracy_score\n",
        "from matplotlib import pyplot\n",
        "\n",
        "# load dataset\n",
        "values = df.values\n",
        "# configure bootstrap\n",
        "n_iterations = 10000\n",
        "n_size = 8000\n",
        "# run bootstrap\n",
        "stats = list()\n",
        "for i in range(n_iterations):\n",
        "  sample = df.sample(n=n_size)\n",
        "  # prepare train and test sets\n",
        "  treated_outcome = np.mean(sample[sample[T] == 1][\"effect\"])\n",
        "  control_outcome = np.mean(sample[sample[T] == 0][\"effect\"])\n",
        "  naive_ATE = treated_outcome - control_outcome\n",
        "  stats.append(naive_ATE)\n",
        "# plot scores\n",
        "pyplot.title(\"naive ATE\")\n",
        "pyplot.hist(stats, bins=1000)\n",
        "pyplot.show()\n",
        "# confidence intervals\n",
        "alpha = 0.95\n",
        "p = ((1.0-alpha)/2.0) * 100\n",
        "lower = numpy.percentile(stats, p)\n",
        "p = (alpha+((1.0-alpha)/2.0)) * 100\n",
        "upper = numpy.percentile(stats, p)\n",
        "print('%.1f confidence interval %.1f and %.1f' % (alpha*100, lower, upper))"
      ]
    },
    {
      "cell_type": "code",
      "execution_count": null,
      "metadata": {
        "colab": {
          "base_uri": "https://localhost:8080/"
        },
        "id": "mBYTccpPZD7P",
        "outputId": "ed421d31-13db-4672-8046-7bde4e4d7bb8"
      },
      "outputs": [
        {
          "name": "stdout",
          "output_type": "stream",
          "text": [
            "ATE: 52.6485\n"
          ]
        }
      ],
      "source": [
        "# IPW estimated ATE\n",
        "\n",
        "X, y, X_treated, y_treated, X_control, y_control, T_ = get_data(df, T)\n",
        "n = len(X)\n",
        "\n",
        "rf = RandomForestClassifier(max_depth=30, random_state=123)\n",
        "rf.fit(X, T_)\n",
        "\n",
        "e_t = rf.predict_proba(X_treated)[:, 1]\n",
        "e_c = rf.predict_proba(X_control)[:, 1]\n",
        "\n",
        "e_t, y_treated = clean(e_t, y_treated, 0)\n",
        "e_c, y_control = clean(e_c, y_control, 1)\n",
        "\n",
        "first = np.sum(y_treated / e_t) / n\n",
        "second = np.sum(y_control / (1 - e_c)) / n\n",
        "\n",
        "IPW_ATE = round(first - second , 4)\n",
        "\n",
        "print(\"ATE:\", IPW_ATE)\n",
        "ATE['ipw'] = IPW_ATE"
      ]
    },
    {
      "cell_type": "code",
      "execution_count": null,
      "metadata": {
        "colab": {
          "base_uri": "https://localhost:8080/",
          "height": 298
        },
        "id": "4JEgMPQtIran",
        "outputId": "e39953c0-a9b0-426e-c44b-a4778162d5d0"
      },
      "outputs": [
        {
          "data": {
            "image/png": "[encoded data removed]",
            "text/plain": [
              "<Figure size 432x288 with 1 Axes>"
            ]
          },
          "metadata": {},
          "output_type": "display_data"
        },
        {
          "name": "stdout",
          "output_type": "stream",
          "text": [
            "95.0 confidence interval 28.4 and 77.7\n"
          ]
        }
      ],
      "source": [
        "n_iterations = 200\n",
        "n_size = 5000\n",
        "# run bootstrap\n",
        "stats = list()\n",
        "for i in range(n_iterations):\n",
        "  # prepare train and test sets\n",
        "  sample = df.sample(n=n_size)\n",
        "  X, y, X_treated, y_treated, X_control, y_control, T_ = get_data(sample, T)\n",
        "  n = len(X)\n",
        "  rf = RandomForestClassifier(max_depth=30, random_state=123)\n",
        "  rf.fit(X, T_)\n",
        "  e_t = rf.predict_proba(X_treated)[:, 1]\n",
        "  e_c = rf.predict_proba(X_control)[:, 1]\n",
        "  e_t, y_treated = clean(e_t, y_treated, 0)\n",
        "  e_c, y_control = clean(e_c, y_control, 1)\n",
        "  first = np.sum(y_treated / e_t) / n\n",
        "  second = np.sum(y_control / (1 - e_c)) / n\n",
        "  IPW_ATE = round(first - second , 4)\n",
        "  # fit model\n",
        "  stats.append(IPW_ATE)\n",
        "# plot scores\n",
        "pyplot.title(\"IPW - ATE\")\n",
        "pyplot.hist(stats, bins=10)\n",
        "pyplot.show()\n",
        "# confidence intervals\n",
        "alpha = 0.95\n",
        "p = ((1.0-alpha)/2.0) * 100\n",
        "lower = numpy.percentile(stats, p)\n",
        "p = (alpha+((1.0-alpha)/2.0)) * 100\n",
        "upper = numpy.percentile(stats, p)\n",
        "print('%.1f confidence interval %.1f and %.1f' % (alpha*100, lower, upper))"
      ]
    },
    {
      "cell_type": "code",
      "execution_count": null,
      "metadata": {
        "id": "58vDRxs91KAa"
      },
      "outputs": [],
      "source": [
        "from sklearn.linear_model import LinearRegression\n",
        "\n",
        "def propensity(X,y):\n",
        "  clf = LinearRegression().fit(X, np.ravel(y.to_numpy()))\n",
        "  prop = clf.predict(X)\n",
        "  # print(\"mean \", np.mean(prop))\n",
        "  # print(\"min \", np.min(prop))\n",
        "  # print(\"max \", np.max(prop))\n",
        "\n",
        "  return prop"
      ]
    },
    {
      "cell_type": "code",
      "execution_count": null,
      "metadata": {
        "id": "VNRfdKXku9Q0"
      },
      "outputs": [],
      "source": [
        "# # import numpy\n",
        "# # from pandas import read_csv\n",
        "# # from sklearn.utils import resample\n",
        "# # from sklearn.tree import DecisionTreeClassifier\n",
        "# # from sklearn.metrics import accuracy_score\n",
        "# from matplotlib import pyplot\n",
        "\n",
        "# load dataset\n",
        "values = df.values\n",
        "# configure bootstrap\n",
        "n_iterations = 100\n",
        "n_size = 5000\n",
        "# run bootstrap\n",
        "stats = list()\n",
        "for i in range(n_iterations):\n",
        "  sample = df.sample(n=n_size)\n",
        "  X = sample.copy()\n",
        "\n",
        "  X = X.drop(target_feature, axis=1)\n",
        "  y = sample[target_feature]\n",
        "\n",
        "  evaluate(X, y)\n",
        "\n",
        "  dt = RandomForestClassifier(max_depth = 20, random_state=123)  \n",
        "  dt.fit(X,y)\n",
        "\n",
        "  X_treated = X.copy()\n",
        "  X_treated[T] = 1\n",
        "  y_1 = dt.predict(X_treated)\n",
        "  X_control = X.copy()\n",
        "  X_control[T] = 0\n",
        "  y_0 = dt.predict(X_control)\n",
        "  s_learner_ATE = round(np.mean(y_1 - y_0), 4)\n",
        "  stats.append(s_learner_ATE)\n",
        "# plot scores\n",
        "pyplot.title(\"S-learner - ATE\")\n",
        "pyplot.hist(stats, bins=10)\n",
        "pyplot.show()\n",
        "# confidence intervals\n",
        "alpha = 0.95\n",
        "p = ((1.0-alpha)/2.0) * 100\n",
        "lower = numpy.percentile(stats, p)\n",
        "p = (alpha+((1.0-alpha)/2.0)) * 100\n",
        "upper = numpy.percentile(stats, p)\n",
        "print('%.1f confidence interval %.1f and %.1f' % (alpha*100, lower, upper))"
      ]
    },
    {
      "cell_type": "code",
      "execution_count": null,
      "metadata": {
        "colab": {
          "base_uri": "https://localhost:8080/"
        },
        "id": "3Xh4eVRKbuJb",
        "outputId": "ead5f758-56bf-4c92-c138-c7eb1155e58d"
      },
      "outputs": [
        {
          "name": "stdout",
          "output_type": "stream",
          "text": [
            "ATE: 79.4481\n",
            "\n"
          ]
        }
      ],
      "source": [
        "# S-Learner comparison - Decision Tree classifier\n",
        "\n",
        "X = df.copy()\n",
        "\n",
        "X = X.drop(target_feature, axis=1)\n",
        "y = df[target_feature]\n",
        "\n",
        "dtc = DecisionTreeClassifier(random_state=123)\n",
        "dtc.fit(X, y)\n",
        "\n",
        "X_treated = X.copy()\n",
        "X_treated[T] = 1\n",
        "y_1 = dtc.predict(X_treated)\n",
        "\n",
        "X_control = X.copy()\n",
        "X_control[T] = 0\n",
        "y_0 = dtc.predict(X_control)\n",
        "\n",
        "s_learner_ATE = round(np.mean(y_1 - y_0), 4)\n",
        "\n",
        "print(f'ATE: {s_learner_ATE}\\n')\n",
        "\n",
        "ATE['s-learner -> dtc'] = s_learner_ATE"
      ]
    },
    {
      "cell_type": "code",
      "execution_count": null,
      "metadata": {
        "colab": {
          "base_uri": "https://localhost:8080/"
        },
        "id": "XdNJMt95b0_z",
        "outputId": "2604a4b1-444c-434b-fa62-27e502e2f3b7"
      },
      "outputs": [
        {
          "name": "stdout",
          "output_type": "stream",
          "text": [
            "X_1 Train error: 18525.548\n",
            "X_1 Test error: 5116575.037\n",
            "X_0 Train error: 189707.43975\n",
            "X_0 Test error: 80258.896\n",
            "ATE: 48.5225\n",
            "\n"
          ]
        }
      ],
      "source": [
        "# T-Learner estimated ATE\n",
        "\n",
        "\n",
        "X = df.copy()\n",
        "treated = df[df[T] == 1]\n",
        "\n",
        "# creating treated-model, control-model\n",
        "X_1 = treated.drop(target_feature, axis=1)\n",
        "y = treated[target_feature]\n",
        "\n",
        "evaluate(X_1, y, extra='X_1')\n",
        "dt1 = RandomForestClassifier(max_depth = 20, random_state=123)  \n",
        "dt1.fit(X_1, y)\n",
        "\n",
        "control = df[df[T] == 0]\n",
        "X_0 = control.drop(target_feature, axis=1)\n",
        "y = control[target_feature]\n",
        "evaluate(X_0, y, extra='X_0')\n",
        "dt0 = RandomForestClassifier(max_depth = 20, random_state=123)\n",
        "dt0.fit(X_0, y)\n",
        "\n",
        "# Evaluating ATE\n",
        "X = df.copy().drop(columns=[target_feature])\n",
        "y = df[target_feature]\n",
        "y_1 = dt1.predict(X)\n",
        "y_0 = dt0.predict(X)\n",
        "\n",
        "t_learner_ATE = round(np.mean(y_1 - y_0), 4)\n",
        "\n",
        "print(f'ATE: {t_learner_ATE}\\n')\n",
        "\n",
        "ATE['t-learner'] = t_learner_ATE"
      ]
    },
    {
      "cell_type": "code",
      "execution_count": null,
      "metadata": {
        "id": "z-RnO_dO51YK"
      },
      "outputs": [],
      "source": [
        "# import numpy\n",
        "# from pandas import read_csv\n",
        "# from sklearn.utils import resample\n",
        "# from sklearn.tree import DecisionTreeClassifier\n",
        "# from sklearn.metrics import accuracy_score\n",
        "# from matplotlib import pyplot\n",
        "\n",
        "# load dataset\n",
        "values = df.values\n",
        "# configure bootstrap\n",
        "n_iterations = 100\n",
        "n_size = 5000\n",
        "# run bootstrap\n",
        "stats = list()\n",
        "for i in range(n_iterations):\n",
        "  sample = df.sample(n=n_size)\n",
        "  X = sample.copy()\n",
        "  treated = sample[sample[T] == 1]\n",
        "\n",
        "  # creating treated-model, control-model\n",
        "  X_1 = treated.drop(target_feature, axis=1)\n",
        "  y = treated[target_feature]\n",
        "\n",
        "  evaluate(X_1, y, extra='X_1')\n",
        "  dt1 = RandomForestClassifier(max_depth = 20, random_state=123)  \n",
        "  dt1.fit(X_1, y)\n",
        "\n",
        "  control = sample[sample[T] == 0]\n",
        "  X_0 = control.drop(target_feature, axis=1)\n",
        "  y = control[target_feature]\n",
        "  evaluate(X_0, y, extra='X_0')\n",
        "  dt0 = RandomForestClassifier(max_depth = 20, random_state=123)\n",
        "  dt0.fit(X_0, y)\n",
        "\n",
        "  # Evaluating ATE\n",
        "  X = sample.copy().drop(columns=[target_feature])\n",
        "  y = sample[target_feature]\n",
        "  y_1 = dt1.predict(X)\n",
        "  y_0 = dt0.predict(X)\n",
        "\n",
        "  t_learner_ATE = round(np.mean(y_1 - y_0), 4)\n",
        "  stats.append(t_learner_ATE)\n",
        "# plot scores\n",
        "pyplot.title(\"T-learner - ATE\")\n",
        "pyplot.hist(stats, bins=10)\n",
        "pyplot.show()\n",
        "# confidence intervals\n",
        "alpha = 0.95\n",
        "p = ((1.0-alpha)/2.0) * 100\n",
        "lower = numpy.percentile(stats, p)\n",
        "p = (alpha+((1.0-alpha)/2.0)) * 100\n",
        "upper = numpy.percentile(stats, p)\n",
        "print('%.1f confidence interval %.1f and %.1f' % (alpha*100, lower, upper))"
      ]
    },
    {
      "cell_type": "code",
      "execution_count": null,
      "metadata": {
        "id": "xN51C4Mwb6Fd"
      },
      "outputs": [],
      "source": [
        "# T-Learner comparison - Decision Tree classifier\n",
        "\n",
        "X = df.copy()\n",
        "treated = df[df[T] == 1]\n",
        "\n",
        "# creating treated-model, control-model\n",
        "X_1 = treated.drop(target_feature, axis=1)\n",
        "y = treated[target_feature]\n",
        "\n",
        "dtc1 = DecisionTreeClassifier(random_state=123)\n",
        "dtc1.fit(X_1, y)\n",
        "\n",
        "control = df[df[T] == 0]\n",
        "X_0 = control.drop(target_feature, axis=1)\n",
        "y = control[target_feature]\n",
        "\n",
        "dtc0 = DecisionTreeClassifier(random_state=123)\n",
        "dtc0.fit(X_0, y)\n",
        "\n",
        "# Evaluating ATE\n",
        "X = df.copy().drop(columns=[target_feature])\n",
        "y = df[target_feature]\n",
        "y_1 = dtc1.predict(X)\n",
        "y_0 = dtc0.predict(X)\n",
        "\n",
        "t_learner_ATE = round(np.mean(y_1 - y_0), 4)\n",
        "\n",
        "print(f'ATE: {t_learner_ATE}\\n')\n",
        "\n",
        "ATE['t-learner -> dtc'] = t_learner_ATE"
      ]
    },
    {
      "cell_type": "code",
      "execution_count": null,
      "metadata": {
        "colab": {
          "base_uri": "https://localhost:8080/"
        },
        "id": "NjKPWk04cFm-",
        "outputId": "8f7664ed-be40-46e7-85e2-71d36a3f7b57"
      },
      "outputs": [
        {
          "name": "stdout",
          "output_type": "stream",
          "text": [
            "ATE: 61.2401\n"
          ]
        }
      ],
      "source": [
        "# Matching estimated ATE\n",
        "\n",
        "X, y, X_treated, y_treated, X_control, y_control, T_ = get_data(df, T)\n",
        "\n",
        "knn = KNeighborsClassifier(1, metric=\"hamming\")\n",
        "knn.fit(X_control, y_control)\n",
        "pred = knn.predict(X_treated)\n",
        "\n",
        "knn2 =  KNeighborsClassifier(1, metric=\"hamming\")\n",
        "knn2.fit(X_treated, y_treated)\n",
        "pred2 = knn2.predict(X_control)\n",
        "\n",
        "ITE1 = y_treated - pred\n",
        "ITE2 = pred2 - y_control\n",
        "ITE = ITE1.append(ITE2)\n",
        "\n",
        "knn_ATE = round(np.mean(ITE), 4)\n",
        "\n",
        "\n",
        "print(\"ATE:\", knn_ATE)\n",
        "\n",
        "ATE['matching'] = knn_ATE"
      ]
    },
    {
      "cell_type": "code",
      "execution_count": null,
      "metadata": {
        "colab": {
          "base_uri": "https://localhost:8080/",
          "height": 298
        },
        "id": "mRnj5no88raq",
        "outputId": "22531abe-24bd-4fb1-8ef0-88ba58eb21ab"
      },
      "outputs": [
        {
          "data": {
            "image/png": "[encoded data removed]",
            "text/plain": [
              "<Figure size 432x288 with 1 Axes>"
            ]
          },
          "metadata": {},
          "output_type": "display_data"
        },
        {
          "name": "stdout",
          "output_type": "stream",
          "text": [
            "95.0 confidence interval 37.7 and 165.5\n"
          ]
        }
      ],
      "source": [
        "# # import numpy\n",
        "# # from pandas import read_csv\n",
        "# # from sklearn.utils import resample\n",
        "# # from sklearn.tree import DecisionTreeClassifier\n",
        "# # from sklearn.metrics import accuracy_score\n",
        "# # from matplotlib import pyplot\n",
        "\n",
        "# # load dataset\n",
        "# values = df.values\n",
        "# # configure bootstrap\n",
        "# n_iterations = 100\n",
        "# n_size = 5000\n",
        "# # run bootstrap\n",
        "# stats = list()\n",
        "# for i in range(n_iterations):\n",
        "#   sample = df.sample(n=n_size)\n",
        "#   X, y, X_treated, y_treated, X_control, y_control, T_ = get_data(sample, T)\n",
        "#   knn = KNeighborsClassifier(1, metric=\"hamming\")\n",
        "#   knn.fit(X_control, y_control)\n",
        "#   pred = knn.predict(X_treated)\n",
        "\n",
        "#   knn2 =  KNeighborsClassifier(1, metric=\"hamming\")\n",
        "#   knn2.fit(X_treated, y_treated)\n",
        "#   pred2 = knn2.predict(X_control)\n",
        "\n",
        "#   ITE1 = y_treated - pred\n",
        "#   ITE2 = pred2 - y_control\n",
        "#   ITE = ITE1.append(ITE2)\n",
        "\n",
        "#   knn_ATE = round(np.mean(ITE), 4)\n",
        "#   stats.append(knn_ATE)\n",
        "# plot scores\n",
        "\n",
        "pyplot.title(\"matching - ATE\")\n",
        "pyplot.hist(stats, bins=10)\n",
        "pyplot.show()\n",
        "# confidence intervals\n",
        "alpha = 0.95\n",
        "p = ((1.0-alpha)/2.0) * 100\n",
        "lower = numpy.percentile(stats, p)\n",
        "p = (alpha+((1.0-alpha)/2.0)) * 100\n",
        "upper = numpy.percentile(stats, p)\n",
        "print('%.1f confidence interval %.1f and %.1f' % (alpha*100, lower, upper))"
      ]
    },
    {
      "cell_type": "code",
      "execution_count": null,
      "metadata": {
        "colab": {
          "base_uri": "https://localhost:8080/"
        },
        "id": "MDidZDaRPidA",
        "outputId": "aec2b42f-d374-4347-88a2-bf2ee5b277d9"
      },
      "outputs": [
        {
          "name": "stdout",
          "output_type": "stream",
          "text": [
            "Cloning into 'causalml'...\n",
            "remote: Enumerating objects: 3333, done.\u001b[K\n",
            "remote: Counting objects: 100% (205/205), done.\u001b[K\n",
            "remote: Compressing objects: 100% (97/97), done.\u001b[K\n",
            "remote: Total 3333 (delta 116), reused 170 (delta 108), pack-reused 3128\u001b[K\n",
            "Receiving objects: 100% (3333/3333), 41.09 MiB | 18.30 MiB/s, done.\n",
            "Resolving deltas: 100% (2060/2060), done.\n"
          ]
        }
      ],
      "source": [
        "!git clone https://github.com/uber/causalml.git"
      ]
    },
    {
      "cell_type": "code",
      "execution_count": null,
      "metadata": {
        "colab": {
          "base_uri": "https://localhost:8080/"
        },
        "id": "wqsNq7j0Ptkx",
        "outputId": "7117faf7-3828-4a2d-ff56-7793b990fc91"
      },
      "outputs": [
        {
          "name": "stdout",
          "output_type": "stream",
          "text": [
            "/content/causalml\n",
            "Looking in indexes: https://pypi.org/simple, https://us-python.pkg.dev/colab-wheels/public/simple/\n",
            "Requirement already satisfied: setuptools>=41.0.0 in /usr/local/lib/python3.7/dist-packages (from -r requirements.txt (line 1)) (57.4.0)\n",
            "Collecting forestci==0.6\n",
            "  Downloading forestci-0.6-py3-none-any.whl (12 kB)\n",
            "Collecting pathos==0.2.9\n",
            "  Downloading pathos-0.2.9-py3-none-any.whl (76 kB)\n",
            "\u001b[K     |████████████████████████████████| 76 kB 3.0 MB/s \n",
            "\u001b[?25hRequirement already satisfied: pip>=10.0 in /usr/local/lib/python3.7/dist-packages (from -r requirements.txt (line 4)) (21.1.3)\n",
            "Requirement already satisfied: numpy>=1.18.5 in /usr/local/lib/python3.7/dist-packages (from -r requirements.txt (line 5)) (1.21.6)\n",
            "Requirement already satisfied: scipy>=1.4.1 in /usr/local/lib/python3.7/dist-packages (from -r requirements.txt (line 6)) (1.7.3)\n",
            "Requirement already satisfied: matplotlib in /usr/local/lib/python3.7/dist-packages (from -r requirements.txt (line 7)) (3.2.2)\n",
            "Requirement already satisfied: pandas>=0.24.1 in /usr/local/lib/python3.7/dist-packages (from -r requirements.txt (line 8)) (1.3.5)\n",
            "Requirement already satisfied: scikit-learn<=1.0.2 in /usr/local/lib/python3.7/dist-packages (from -r requirements.txt (line 9)) (1.0.2)\n",
            "Requirement already satisfied: statsmodels>=0.9.0 in /usr/local/lib/python3.7/dist-packages (from -r requirements.txt (line 10)) (0.12.2)\n",
            "Requirement already satisfied: seaborn in /usr/local/lib/python3.7/dist-packages (from -r requirements.txt (line 11)) (0.11.2)\n",
            "Requirement already satisfied: Cython>=0.28.0 in /usr/local/lib/python3.7/dist-packages (from -r requirements.txt (line 12)) (0.29.32)\n",
            "Requirement already satisfied: xgboost in /usr/local/lib/python3.7/dist-packages (from -r requirements.txt (line 13)) (0.90)\n",
            "Requirement already satisfied: pydotplus in /usr/local/lib/python3.7/dist-packages (from -r requirements.txt (line 14)) (2.0.2)\n",
            "Requirement already satisfied: tqdm in /usr/local/lib/python3.7/dist-packages (from -r requirements.txt (line 15)) (4.64.0)\n",
            "Collecting shap\n",
            "  Downloading shap-0.41.0-cp37-cp37m-manylinux_2_12_x86_64.manylinux2010_x86_64.whl (569 kB)\n",
            "\u001b[K     |████████████████████████████████| 569 kB 11.2 MB/s \n",
            "\u001b[?25hRequirement already satisfied: dill in /usr/local/lib/python3.7/dist-packages (from -r requirements.txt (line 17)) (0.3.5.1)\n",
            "Requirement already satisfied: lightgbm in /usr/local/lib/python3.7/dist-packages (from -r requirements.txt (line 18)) (2.2.3)\n",
            "Collecting pygam\n",
            "  Downloading pygam-0.8.0-py2.py3-none-any.whl (1.8 MB)\n",
            "\u001b[K     |████████████████████████████████| 1.8 MB 43.0 MB/s \n",
            "\u001b[?25hRequirement already satisfied: packaging in /usr/local/lib/python3.7/dist-packages (from -r requirements.txt (line 20)) (21.3)\n",
            "Requirement already satisfied: torch in /usr/local/lib/python3.7/dist-packages (from -r requirements.txt (line 21)) (1.12.1+cu113)\n",
            "Collecting pyro-ppl\n",
            "  Downloading pyro_ppl-1.8.1-py3-none-any.whl (718 kB)\n",
            "\u001b[K     |████████████████████████████████| 718 kB 63.1 MB/s \n",
            "\u001b[?25hRequirement already satisfied: graphviz in /usr/local/lib/python3.7/dist-packages (from -r requirements.txt (line 23)) (0.10.1)\n",
            "Collecting ppft>=1.7.6.5\n",
            "  Downloading ppft-1.7.6.5-py2.py3-none-any.whl (52 kB)\n",
            "\u001b[K     |████████████████████████████████| 52 kB 1.3 MB/s \n",
            "\u001b[?25hCollecting pox>=0.3.1\n",
            "  Downloading pox-0.3.1-py2.py3-none-any.whl (28 kB)\n",
            "Collecting multiprocess>=0.70.13\n",
            "  Downloading multiprocess-0.70.13-py37-none-any.whl (115 kB)\n",
            "\u001b[K     |████████████████████████████████| 115 kB 49.3 MB/s \n",
            "\u001b[?25hRequirement already satisfied: pytz>=2017.3 in /usr/local/lib/python3.7/dist-packages (from pandas>=0.24.1->-r requirements.txt (line 8)) (2022.2.1)\n",
            "Requirement already satisfied: python-dateutil>=2.7.3 in /usr/local/lib/python3.7/dist-packages (from pandas>=0.24.1->-r requirements.txt (line 8)) (2.8.2)\n",
            "Requirement already satisfied: joblib>=0.11 in /usr/local/lib/python3.7/dist-packages (from scikit-learn<=1.0.2->-r requirements.txt (line 9)) (1.1.0)\n",
            "Requirement already satisfied: threadpoolctl>=2.0.0 in /usr/local/lib/python3.7/dist-packages (from scikit-learn<=1.0.2->-r requirements.txt (line 9)) (3.1.0)\n",
            "Requirement already satisfied: patsy>=0.5 in /usr/local/lib/python3.7/dist-packages (from statsmodels>=0.9.0->-r requirements.txt (line 10)) (0.5.2)\n",
            "Requirement already satisfied: six in /usr/local/lib/python3.7/dist-packages (from patsy>=0.5->statsmodels>=0.9.0->-r requirements.txt (line 10)) (1.15.0)\n",
            "Requirement already satisfied: kiwisolver>=1.0.1 in /usr/local/lib/python3.7/dist-packages (from matplotlib->-r requirements.txt (line 7)) (1.4.4)\n",
            "Requirement already satisfied: pyparsing!=2.0.4,!=2.1.2,!=2.1.6,>=2.0.1 in /usr/local/lib/python3.7/dist-packages (from matplotlib->-r requirements.txt (line 7)) (3.0.9)\n",
            "Requirement already satisfied: cycler>=0.10 in /usr/local/lib/python3.7/dist-packages (from matplotlib->-r requirements.txt (line 7)) (0.11.0)\n",
            "Requirement already satisfied: typing-extensions in /usr/local/lib/python3.7/dist-packages (from kiwisolver>=1.0.1->matplotlib->-r requirements.txt (line 7)) (4.1.1)\n",
            "Requirement already satisfied: numba in /usr/local/lib/python3.7/dist-packages (from shap->-r requirements.txt (line 16)) (0.56.0)\n",
            "Collecting slicer==0.0.7\n",
            "  Downloading slicer-0.0.7-py3-none-any.whl (14 kB)\n",
            "Requirement already satisfied: cloudpickle in /usr/local/lib/python3.7/dist-packages (from shap->-r requirements.txt (line 16)) (1.5.0)\n",
            "Requirement already satisfied: future in /usr/local/lib/python3.7/dist-packages (from pygam->-r requirements.txt (line 19)) (0.16.0)\n",
            "Requirement already satisfied: progressbar2 in /usr/local/lib/python3.7/dist-packages (from pygam->-r requirements.txt (line 19)) (3.38.0)\n",
            "Requirement already satisfied: opt-einsum>=2.3.2 in /usr/local/lib/python3.7/dist-packages (from pyro-ppl->-r requirements.txt (line 22)) (3.3.0)\n",
            "Collecting pyro-api>=0.1.1\n",
            "  Downloading pyro_api-0.1.2-py3-none-any.whl (11 kB)\n",
            "Requirement already satisfied: llvmlite<0.40,>=0.39.0dev0 in /usr/local/lib/python3.7/dist-packages (from numba->shap->-r requirements.txt (line 16)) (0.39.0)\n",
            "Requirement already satisfied: importlib-metadata in /usr/local/lib/python3.7/dist-packages (from numba->shap->-r requirements.txt (line 16)) (4.12.0)\n",
            "Requirement already satisfied: zipp>=0.5 in /usr/local/lib/python3.7/dist-packages (from importlib-metadata->numba->shap->-r requirements.txt (line 16)) (3.8.1)\n",
            "Requirement already satisfied: python-utils>=2.3.0 in /usr/local/lib/python3.7/dist-packages (from progressbar2->pygam->-r requirements.txt (line 19)) (3.3.3)\n",
            "Installing collected packages: slicer, pyro-api, ppft, pox, multiprocess, shap, pyro-ppl, pygam, pathos, forestci\n",
            "Successfully installed forestci-0.6 multiprocess-0.70.13 pathos-0.2.9 pox-0.3.1 ppft-1.7.6.5 pygam-0.8.0 pyro-api-0.1.2 pyro-ppl-1.8.1 shap-0.41.0 slicer-0.0.7\n",
            "Looking in indexes: https://pypi.org/simple, https://us-python.pkg.dev/colab-wheels/public/simple/\n",
            "Collecting causalml\n",
            "  Downloading causalml-0.12.3.tar.gz (406 kB)\n",
            "\u001b[K     |████████████████████████████████| 406 kB 5.1 MB/s \n",
            "\u001b[?25hRequirement already satisfied: setuptools>=41.0.0 in /usr/local/lib/python3.7/dist-packages (from causalml) (57.4.0)\n",
            "Requirement already satisfied: pip>=10.0 in /usr/local/lib/python3.7/dist-packages (from causalml) (21.1.3)\n",
            "Requirement already satisfied: numpy>=1.18.5 in /usr/local/lib/python3.7/dist-packages (from causalml) (1.21.6)\n",
            "Requirement already satisfied: scipy>=1.4.1 in /usr/local/lib/python3.7/dist-packages (from causalml) (1.7.3)\n",
            "Requirement already satisfied: matplotlib in /usr/local/lib/python3.7/dist-packages (from causalml) (3.2.2)\n",
            "Requirement already satisfied: pandas>=0.24.1 in /usr/local/lib/python3.7/dist-packages (from causalml) (1.3.5)\n",
            "Requirement already satisfied: scikit-learn>=0.22.0 in /usr/local/lib/python3.7/dist-packages (from causalml) (1.0.2)\n",
            "Requirement already satisfied: statsmodels>=0.9.0 in /usr/local/lib/python3.7/dist-packages (from causalml) (0.12.2)\n",
            "Requirement already satisfied: seaborn in /usr/local/lib/python3.7/dist-packages (from causalml) (0.11.2)\n",
            "Requirement already satisfied: Cython>=0.28.0 in /usr/local/lib/python3.7/dist-packages (from causalml) (0.29.32)\n",
            "Requirement already satisfied: xgboost in /usr/local/lib/python3.7/dist-packages (from causalml) (0.90)\n",
            "Requirement already satisfied: pydotplus in /usr/local/lib/python3.7/dist-packages (from causalml) (2.0.2)\n",
            "Requirement already satisfied: tqdm in /usr/local/lib/python3.7/dist-packages (from causalml) (4.64.0)\n",
            "Requirement already satisfied: shap in /usr/local/lib/python3.7/dist-packages (from causalml) (0.41.0)\n",
            "Requirement already satisfied: dill in /usr/local/lib/python3.7/dist-packages (from causalml) (0.3.5.1)\n",
            "Requirement already satisfied: lightgbm in /usr/local/lib/python3.7/dist-packages (from causalml) (2.2.3)\n",
            "Requirement already satisfied: pygam in /usr/local/lib/python3.7/dist-packages (from causalml) (0.8.0)\n",
            "Requirement already satisfied: packaging in /usr/local/lib/python3.7/dist-packages (from causalml) (21.3)\n",
            "Requirement already satisfied: torch in /usr/local/lib/python3.7/dist-packages (from causalml) (1.12.1+cu113)\n",
            "Requirement already satisfied: pyro-ppl in /usr/local/lib/python3.7/dist-packages (from causalml) (1.8.1)\n",
            "Requirement already satisfied: graphviz in /usr/local/lib/python3.7/dist-packages (from causalml) (0.10.1)\n",
            "Requirement already satisfied: python-dateutil>=2.7.3 in /usr/local/lib/python3.7/dist-packages (from pandas>=0.24.1->causalml) (2.8.2)\n",
            "Requirement already satisfied: pytz>=2017.3 in /usr/local/lib/python3.7/dist-packages (from pandas>=0.24.1->causalml) (2022.2.1)\n",
            "Requirement already satisfied: six>=1.5 in /usr/local/lib/python3.7/dist-packages (from python-dateutil>=2.7.3->pandas>=0.24.1->causalml) (1.15.0)\n",
            "Requirement already satisfied: threadpoolctl>=2.0.0 in /usr/local/lib/python3.7/dist-packages (from scikit-learn>=0.22.0->causalml) (3.1.0)\n",
            "Requirement already satisfied: joblib>=0.11 in /usr/local/lib/python3.7/dist-packages (from scikit-learn>=0.22.0->causalml) (1.1.0)\n",
            "Requirement already satisfied: patsy>=0.5 in /usr/local/lib/python3.7/dist-packages (from statsmodels>=0.9.0->causalml) (0.5.2)\n",
            "Requirement already satisfied: cycler>=0.10 in /usr/local/lib/python3.7/dist-packages (from matplotlib->causalml) (0.11.0)\n",
            "Requirement already satisfied: kiwisolver>=1.0.1 in /usr/local/lib/python3.7/dist-packages (from matplotlib->causalml) (1.4.4)\n",
            "Requirement already satisfied: pyparsing!=2.0.4,!=2.1.2,!=2.1.6,>=2.0.1 in /usr/local/lib/python3.7/dist-packages (from matplotlib->causalml) (3.0.9)\n",
            "Requirement already satisfied: typing-extensions in /usr/local/lib/python3.7/dist-packages (from kiwisolver>=1.0.1->matplotlib->causalml) (4.1.1)\n",
            "Requirement already satisfied: progressbar2 in /usr/local/lib/python3.7/dist-packages (from pygam->causalml) (3.38.0)\n",
            "Requirement already satisfied: future in /usr/local/lib/python3.7/dist-packages (from pygam->causalml) (0.16.0)\n",
            "Requirement already satisfied: python-utils>=2.3.0 in /usr/local/lib/python3.7/dist-packages (from progressbar2->pygam->causalml) (3.3.3)\n",
            "Requirement already satisfied: opt-einsum>=2.3.2 in /usr/local/lib/python3.7/dist-packages (from pyro-ppl->causalml) (3.3.0)\n",
            "Requirement already satisfied: pyro-api>=0.1.1 in /usr/local/lib/python3.7/dist-packages (from pyro-ppl->causalml) (0.1.2)\n",
            "Requirement already satisfied: numba in /usr/local/lib/python3.7/dist-packages (from shap->causalml) (0.56.0)\n",
            "Requirement already satisfied: slicer==0.0.7 in /usr/local/lib/python3.7/dist-packages (from shap->causalml) (0.0.7)\n",
            "Requirement already satisfied: cloudpickle in /usr/local/lib/python3.7/dist-packages (from shap->causalml) (1.5.0)\n",
            "Requirement already satisfied: llvmlite<0.40,>=0.39.0dev0 in /usr/local/lib/python3.7/dist-packages (from numba->shap->causalml) (0.39.0)\n",
            "Requirement already satisfied: importlib-metadata in /usr/local/lib/python3.7/dist-packages (from numba->shap->causalml) (4.12.0)\n",
            "Requirement already satisfied: zipp>=0.5 in /usr/local/lib/python3.7/dist-packages (from importlib-metadata->numba->shap->causalml) (3.8.1)\n",
            "Building wheels for collected packages: causalml\n",
            "  Building wheel for causalml (setup.py) ... \u001b[?25l\u001b[?25hdone\n",
            "  Created wheel for causalml: filename=causalml-0.12.3-cp37-cp37m-linux_x86_64.whl size=1053939 sha256=653b3dc03825944e6d416534a5a1f6274f224de3fd3d79d500bf10243882cc2a\n",
            "  Stored in directory: /root/.cache/pip/wheels/d7/5e/47/4e965cf8e87c6c10cd7361d910acccd08a1de459f25d55fd23\n",
            "Successfully built causalml\n",
            "Installing collected packages: causalml\n",
            "Successfully installed causalml-0.12.3\n"
          ]
        }
      ],
      "source": [
        "%cd causalml\n",
        "!pip install -r requirements.txt\n",
        "!pip install causalml"
      ]
    },
    {
      "cell_type": "code",
      "execution_count": null,
      "metadata": {
        "id": "5L0P201gP7a_"
      },
      "outputs": [],
      "source": [
        "import pandas as pd\n",
        "import numpy as np\n",
        "from matplotlib import pyplot as plt\n",
        "from sklearn.linear_model import LinearRegression\n",
        "from sklearn.model_selection import train_test_split\n",
        "import statsmodels.api as sm\n",
        "from xgboost import XGBRegressor\n",
        "import warnings\n",
        "\n",
        "from causalml.inference.meta import LRSRegressor\n",
        "from causalml.inference.meta import XGBTRegressor, MLPTRegressor\n",
        "from causalml.inference.meta import BaseXRegressor, BaseRRegressor, BaseSRegressor, BaseTRegressor\n",
        "from causalml.match import NearestNeighborMatch, MatchOptimizer, create_table_one\n",
        "from causalml.propensity import ElasticNetPropensityModel\n",
        "# from causalml.dataset import *\n",
        "from causalml.metrics import *\n",
        "\n",
        "warnings.filterwarnings('ignore')\n",
        "plt.style.use('fivethirtyeight')\n",
        "\n",
        "%matplotlib inline\n",
        "from causalml.inference.meta import LRSRegressor\n",
        "import causalml\n"
      ]
    },
    {
      "cell_type": "code",
      "execution_count": null,
      "metadata": {
        "id": "R9_8fVBnStss"
      },
      "outputs": [],
      "source": [
        "treatment = df[T]\n",
        "X = df.drop([\"treatment\", \"effect\"], axis=1)\n",
        "y = treatment\n",
        "from causalml.propensity import *\n",
        "pm = GradientBoostedPropensityModel()\n",
        "ps = pm.fit_predict(X=X, y=y)\n",
        "e = ps"
      ]
    },
    {
      "cell_type": "code",
      "execution_count": null,
      "metadata": {
        "colab": {
          "base_uri": "https://localhost:8080/"
        },
        "id": "mujME5-DbUcJ",
        "outputId": "8545f612-7c5d-4e26-c789-311573890f0b"
      },
      "outputs": [
        {
          "name": "stdout",
          "output_type": "stream",
          "text": [
            "[18:31:37] WARNING: /workspace/src/objective/regression_obj.cu:152: reg:linear is now deprecated in favor of reg:squarederror.\n",
            "[18:31:50] WARNING: /workspace/src/objective/regression_obj.cu:152: reg:linear is now deprecated in favor of reg:squarederror.\n",
            "[18:32:05] WARNING: /workspace/src/objective/regression_obj.cu:152: reg:linear is now deprecated in favor of reg:squarederror.\n",
            "[18:32:18] WARNING: /workspace/src/objective/regression_obj.cu:152: reg:linear is now deprecated in favor of reg:squarederror.\n",
            "Using the BaseXRegressor class and using XGB:\n",
            "(array([95.05350067]), array([65.07256478]), array([125.03443657]))\n"
          ]
        }
      ],
      "source": [
        "# X Learner with propensity score input\n",
        "# Calling the Base Learner class and feeding in XGB\n",
        "learner_x = BaseXRegressor(learner=XGBRegressor())\n",
        "ate_x = learner_x.estimate_ate(X=X, treatment=treatment, y=df[\"effect\"], p=ps)\n",
        "print('Using the BaseXRegressor class and using XGB:')\n",
        "print(ate_x)"
      ]
    },
    {
      "cell_type": "code",
      "execution_count": null,
      "metadata": {
        "colab": {
          "base_uri": "https://localhost:8080/"
        },
        "id": "g7FNvfFPhIRG",
        "outputId": "b216e630-789a-407b-cf3c-563aa03d2902"
      },
      "outputs": [
        {
          "name": "stdout",
          "output_type": "stream",
          "text": [
            "[18:33:09] WARNING: /workspace/src/objective/regression_obj.cu:152: reg:linear is now deprecated in favor of reg:squarederror.\n",
            "[18:33:22] WARNING: /workspace/src/objective/regression_obj.cu:152: reg:linear is now deprecated in favor of reg:squarederror.\n",
            "Using the ready-to-use XGBTRegressor class\n",
            "(array([95.37461354]), array([65.01309416]), array([125.73613292]))\n"
          ]
        }
      ],
      "source": [
        "# Ready-to-use T-Learner using XGB\n",
        "learner_t = XGBTRegressor()\n",
        "ate_t = learner_t.estimate_ate(X=X, treatment=treatment, y=df[\"effect\"])\n",
        "print('Using the ready-to-use XGBTRegressor class')\n",
        "print(ate_t)"
      ]
    },
    {
      "cell_type": "code",
      "execution_count": null,
      "metadata": {
        "colab": {
          "base_uri": "https://localhost:8080/"
        },
        "id": "0XlmfWMyD5mW",
        "outputId": "c7242dd4-db1a-4411-fbbb-448acdc29e9a"
      },
      "outputs": [
        {
          "data": {
            "text/plain": [
              "array([0.10331599, 0.08000463, 0.05354141, ..., 0.10939282, 0.0883259 ,\n",
              "       0.05958479], dtype=float32)"
            ]
          },
          "execution_count": 8,
          "metadata": {},
          "output_type": "execute_result"
        }
      ],
      "source": [
        "e"
      ]
    },
    {
      "cell_type": "code",
      "execution_count": null,
      "metadata": {
        "colab": {
          "background_save": true
        },
        "id": "cjLkvvSaqQhp",
        "outputId": "32cb750b-dcd6-4806-e9ae-28a8138078fb"
      },
      "outputs": [
        {
          "name": "stdout",
          "output_type": "stream",
          "text": [
            "[21:58:11] WARNING: /workspace/src/objective/regression_obj.cu:152: reg:linear is now deprecated in favor of reg:squarederror.\n",
            "Using the BaseRRegressor class and using XGB:\n",
            "(array([1.00723894]), array([1.00723864]), array([1.00723924]))\n"
          ]
        }
      ],
      "source": [
        "# R Learner with propensity score input\n",
        "# Calling the Base Learner class and feeding in XGB\n",
        "learner_r = BaseRRegressor(learner=XGBRegressor())\n",
        "ate_r = learner_r.estimate_ate(X=X, treatment=treatment, y=y, p=e)\n",
        "print('Using the BaseRRegressor class and using XGB:')\n",
        "print(ate_r)"
      ]
    },
    {
      "cell_type": "code",
      "execution_count": null,
      "metadata": {
        "id": "w39sUMiYzUFq"
      },
      "outputs": [],
      "source": [
        "# Garbage Collector - use it like gc.collect()\n",
        "import gc\n",
        "import tensorflow as tf\n",
        "\n",
        "\n",
        "# Custom Callback To Include in Callbacks List At Training Time\n",
        "class GarbageCollectorCallback(tf.keras.callbacks.Callback):\n",
        "    def on_epoch_end(self, epoch, logs=None):\n",
        "        gc.collect()"
      ]
    }
  ],
  "metadata": {
    "colab": {
      "collapsed_sections": [],
      "name": "causality_project.ipynb",
      "provenance": []
    },
    "kernelspec": {
      "display_name": "Python 3",
      "name": "python3"
    },
    "language_info": {
      "name": "python"
    }
  },
  "nbformat": 4,
  "nbformat_minor": 0
}